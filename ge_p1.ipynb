{
 "cells": [
  {
   "cell_type": "code",
   "execution_count": 52,
   "id": "e8e8c7cf-5b07-4850-8672-a87e883e7fac",
   "metadata": {
    "scrolled": true
   },
   "outputs": [],
   "source": [
    "import great_expectations as ge\n",
    "from great_expectations.data_context import get_context"
   ]
  },
  {
   "cell_type": "code",
   "execution_count": 53,
   "id": "e374180e-30fe-4bb0-ba4d-a691c6a314b8",
   "metadata": {},
   "outputs": [],
   "source": [
    "\n",
    "context = ge.get_context()\n"
   ]
  },
  {
   "cell_type": "code",
   "execution_count": 54,
   "id": "dbcba4dc-c1bb-4131-8fc2-46be6af4b528",
   "metadata": {},
   "outputs": [
    {
     "data": {
      "text/plain": [
       "PandasDatasource(type='pandas', name='my_data', id=None, assets=[CSVAsset(name='myasset', type='csv', id=None, order_by=[], batch_metadata={}, filepath_or_buffer=PosixPath('/Users/akhilpenmatcha/Desktop/DE-Project/walmart/features.csv'), sep=None, delimiter=None, header='infer', names=None, index_col=None, usecols=None, dtype=None, engine=None, true_values=None, false_values=None, skipinitialspace=False, skiprows=None, skipfooter=0, nrows=None, na_values=None, keep_default_na=True, na_filter=True, verbose=None, skip_blank_lines=True, parse_dates=None, infer_datetime_format=None, keep_date_col=None, date_format=None, dayfirst=False, cache_dates=True, iterator=False, chunksize=None, compression='infer', thousands=None, decimal='.', lineterminator=None, quotechar='\"', quoting=0, doublequote=True, escapechar=None, comment=None, encoding=None, encoding_errors='strict', dialect=None, on_bad_lines='error', delim_whitespace=None, low_memory=True, memory_map=False, float_precision=None, storage_options=None, dtype_backend=None)])"
      ]
     },
     "execution_count": 54,
     "metadata": {},
     "output_type": "execute_result"
    }
   ],
   "source": [
    "context = get_context()\n",
    "context.datasources.pop(\"my_data\", None)\n"
   ]
  },
  {
   "cell_type": "code",
   "execution_count": 55,
   "id": "feb08d84-479c-4ace-995d-35352a666bc0",
   "metadata": {},
   "outputs": [],
   "source": [
    "datasource = context.sources.add_pandas(name=\"my_data\").read_csv(\"/Users/akhilpenmatcha/Desktop/DE-Project/walmart/features.csv\", asset_name=\"myasset\")\n"
   ]
  },
  {
   "cell_type": "code",
   "execution_count": 56,
   "id": "01032d8c-9a87-4e5c-aa17-6dd832d31718",
   "metadata": {},
   "outputs": [
    {
     "name": "stdout",
     "output_type": "stream",
     "text": [
      "{'my_data_features': PandasDatasource(type='pandas', name='my_data_features', id=None, assets=[]), 'my_data1': PandasDatasource(type='pandas', name='my_data1', id=None, assets=[]), 'steam_data': PandasDatasource(type='pandas', name='steam_data', id=None, assets=[CSVAsset(name='steamasset', type='csv', id=None, order_by=[], batch_metadata={}, filepath_or_buffer=PosixPath('/Users/akhilpenmatcha/Desktop/DE-Project/steam/steamspy_data.csv'), sep=None, delimiter=None, header='infer', names=None, index_col=None, usecols=None, dtype=None, engine=None, true_values=None, false_values=None, skipinitialspace=False, skiprows=None, skipfooter=0, nrows=None, na_values=None, keep_default_na=True, na_filter=True, verbose=None, skip_blank_lines=True, parse_dates=None, infer_datetime_format=None, keep_date_col=None, date_format=None, dayfirst=False, cache_dates=True, iterator=False, chunksize=None, compression='infer', thousands=None, decimal='.', lineterminator=None, quotechar='\"', quoting=0, doublequote=True, escapechar=None, comment=None, encoding=None, encoding_errors='strict', dialect=None, on_bad_lines='error', delim_whitespace=None, low_memory=True, memory_map=False, float_precision=None, storage_options=None, dtype_backend=None)]), 's3_netflix': PandasS3Datasource(type='pandas_s3', name='s3_netflix', id=None, assets=[], bucket='storgae-bucket-walmart', boto3_options={}), 'my_data': PandasDatasource(type='pandas', name='my_data', id=None, assets=[CSVAsset(name='myasset', type='csv', id=None, order_by=[], batch_metadata={}, filepath_or_buffer=PosixPath('/Users/akhilpenmatcha/Desktop/DE-Project/walmart/features.csv'), sep=None, delimiter=None, header='infer', names=None, index_col=None, usecols=None, dtype=None, engine=None, true_values=None, false_values=None, skipinitialspace=False, skiprows=None, skipfooter=0, nrows=None, na_values=None, keep_default_na=True, na_filter=True, verbose=None, skip_blank_lines=True, parse_dates=None, infer_datetime_format=None, keep_date_col=None, date_format=None, dayfirst=False, cache_dates=True, iterator=False, chunksize=None, compression='infer', thousands=None, decimal='.', lineterminator=None, quotechar='\"', quoting=0, doublequote=True, escapechar=None, comment=None, encoding=None, encoding_errors='strict', dialect=None, on_bad_lines='error', delim_whitespace=None, low_memory=True, memory_map=False, float_precision=None, storage_options=None, dtype_backend=None)])}\n"
     ]
    }
   ],
   "source": [
    "print(context.datasources)\n"
   ]
  },
  {
   "cell_type": "code",
   "execution_count": 57,
   "id": "bd724ab3-f585-493c-ab9e-76d350d4be4e",
   "metadata": {},
   "outputs": [],
   "source": [
    "context.delete_expectation_suite(expectation_suite_name=\"new_expectation_suite\")\n"
   ]
  },
  {
   "cell_type": "code",
   "execution_count": 58,
   "id": "78780eb7-49e6-4631-9b08-686177eb6238",
   "metadata": {
    "scrolled": true
   },
   "outputs": [],
   "source": [
    "\n",
    "# Create a new expectation suite\n",
    "expectation_suite_name = \"new_expectation_suite\"\n",
    "context.add_expectation_suite(expectation_suite_name=expectation_suite_name)\n",
    "\n",
    "# Create a validator with an expectation suite\n",
    "validator = context.get_validator(\n",
    "    datasource_name=\"my_data\",\n",
    "    data_asset_name=\"myasset\",\n",
    "    expectation_suite_name=expectation_suite_name\n",
    ")\n",
    "\n"
   ]
  },
  {
   "cell_type": "code",
   "execution_count": 59,
   "id": "2aa467d4-60dd-499d-a2d3-231c7af3ebc7",
   "metadata": {},
   "outputs": [
    {
     "data": {
      "application/vnd.jupyter.widget-view+json": {
       "model_id": "a55fd80d861949d288fcd4d35e512624",
       "version_major": 2,
       "version_minor": 0
      },
      "text/plain": [
       "Calculating Metrics:   0%|          | 0/6 [00:00<?, ?it/s]"
      ]
     },
     "metadata": {},
     "output_type": "display_data"
    },
    {
     "data": {
      "text/plain": [
       "{\n",
       "  \"success\": true,\n",
       "  \"result\": {\n",
       "    \"element_count\": 8190,\n",
       "    \"unexpected_count\": 0,\n",
       "    \"unexpected_percent\": 0.0,\n",
       "    \"partial_unexpected_list\": []\n",
       "  },\n",
       "  \"meta\": {},\n",
       "  \"exception_info\": {\n",
       "    \"raised_exception\": false,\n",
       "    \"exception_traceback\": null,\n",
       "    \"exception_message\": null\n",
       "  }\n",
       "}"
      ]
     },
     "execution_count": 59,
     "metadata": {},
     "output_type": "execute_result"
    }
   ],
   "source": [
    "validator.expect_column_values_to_not_be_null(\"Store\")\n"
   ]
  },
  {
   "cell_type": "code",
   "execution_count": 60,
   "id": "056ce032-6747-4157-aae5-3acd62703f3f",
   "metadata": {},
   "outputs": [
    {
     "data": {
      "application/vnd.jupyter.widget-view+json": {
       "model_id": "aba6fcbd709e4afcb608e5b67074e857",
       "version_major": 2,
       "version_minor": 0
      },
      "text/plain": [
       "Calculating Metrics:   0%|          | 0/6 [00:00<?, ?it/s]"
      ]
     },
     "metadata": {},
     "output_type": "display_data"
    }
   ],
   "source": [
    "results = validator.validate()\n"
   ]
  },
  {
   "cell_type": "code",
   "execution_count": 61,
   "id": "dd7e15da-0108-4bc4-879e-3d2aba8b1f6a",
   "metadata": {},
   "outputs": [
    {
     "data": {
      "text/plain": [
       "'/Users/akhilpenmatcha/Desktop/DE-Project/Great Expectations/gx/expectations/new_expectation_suite.json'"
      ]
     },
     "execution_count": 61,
     "metadata": {},
     "output_type": "execute_result"
    }
   ],
   "source": [
    "context.save_expectation_suite(validator.expectation_suite)\n"
   ]
  },
  {
   "cell_type": "code",
   "execution_count": 62,
   "id": "71a517ab-18a1-4aa5-90c1-f7fc1d1c301b",
   "metadata": {},
   "outputs": [
    {
     "data": {
      "text/plain": [
       "{'local_site': 'file:///Users/akhilpenmatcha/Desktop/DE-Project/Great Expectations/gx/uncommitted/data_docs/local_site/index.html'}"
      ]
     },
     "execution_count": 62,
     "metadata": {},
     "output_type": "execute_result"
    }
   ],
   "source": [
    "context.build_data_docs()\n"
   ]
  },
  {
   "cell_type": "code",
   "execution_count": 63,
   "id": "0258919c-ff1c-4fe8-b46f-44b23eda6db4",
   "metadata": {},
   "outputs": [
    {
     "data": {
      "application/vnd.jupyter.widget-view+json": {
       "model_id": "baada8e54a384e479f604a10d5ce92e5",
       "version_major": 2,
       "version_minor": 0
      },
      "text/plain": [
       "Calculating Metrics:   0%|          | 0/8 [00:00<?, ?it/s]"
      ]
     },
     "metadata": {},
     "output_type": "display_data"
    },
    {
     "data": {
      "text/plain": [
       "{\n",
       "  \"success\": false,\n",
       "  \"result\": {\n",
       "    \"element_count\": 8190,\n",
       "    \"unexpected_count\": 6292,\n",
       "    \"unexpected_percent\": 76.82539682539684,\n",
       "    \"partial_unexpected_list\": [\n",
       "      3.016,\n",
       "      3.01,\n",
       "      3.022,\n",
       "      3.045,\n",
       "      3.065,\n",
       "      3.288,\n",
       "      3.459,\n",
       "      3.488,\n",
       "      3.473,\n",
       "      3.524,\n",
       "      3.622,\n",
       "      3.743,\n",
       "      3.807,\n",
       "      3.81,\n",
       "      3.906,\n",
       "      3.899,\n",
       "      3.907,\n",
       "      3.786,\n",
       "      3.699,\n",
       "      3.648\n",
       "    ],\n",
       "    \"missing_count\": 0,\n",
       "    \"missing_percent\": 0.0,\n",
       "    \"unexpected_percent_total\": 76.82539682539684,\n",
       "    \"unexpected_percent_nonmissing\": 76.82539682539684\n",
       "  },\n",
       "  \"meta\": {},\n",
       "  \"exception_info\": {\n",
       "    \"raised_exception\": false,\n",
       "    \"exception_traceback\": null,\n",
       "    \"exception_message\": null\n",
       "  }\n",
       "}"
      ]
     },
     "execution_count": 63,
     "metadata": {},
     "output_type": "execute_result"
    }
   ],
   "source": [
    "validator.expect_column_values_to_be_between(column=\"Fuel_Price\", min_value=2, max_value=3)"
   ]
  },
  {
   "cell_type": "code",
   "execution_count": 64,
   "id": "0a89d332-f000-46c8-9490-d059147aa3c2",
   "metadata": {},
   "outputs": [
    {
     "data": {
      "application/vnd.jupyter.widget-view+json": {
       "model_id": "5aba732d1b5f4a4a9791069fa980b7b1",
       "version_major": 2,
       "version_minor": 0
      },
      "text/plain": [
       "Calculating Metrics:   0%|          | 0/8 [00:00<?, ?it/s]"
      ]
     },
     "metadata": {},
     "output_type": "display_data"
    },
    {
     "data": {
      "text/plain": [
       "{\n",
       "  \"success\": true,\n",
       "  \"result\": {\n",
       "    \"element_count\": 8190,\n",
       "    \"unexpected_count\": 0,\n",
       "    \"unexpected_percent\": 0.0,\n",
       "    \"partial_unexpected_list\": [],\n",
       "    \"missing_count\": 0,\n",
       "    \"missing_percent\": 0.0,\n",
       "    \"unexpected_percent_total\": 0.0,\n",
       "    \"unexpected_percent_nonmissing\": 0.0\n",
       "  },\n",
       "  \"meta\": {},\n",
       "  \"exception_info\": {\n",
       "    \"raised_exception\": false,\n",
       "    \"exception_traceback\": null,\n",
       "    \"exception_message\": null\n",
       "  }\n",
       "}"
      ]
     },
     "execution_count": 64,
     "metadata": {},
     "output_type": "execute_result"
    }
   ],
   "source": [
    "validator.expect_column_values_to_be_between(column=\"Fuel_Price\", min_value=2, max_value=5)"
   ]
  },
  {
   "cell_type": "code",
   "execution_count": null,
   "id": "34777efa-9acd-4d80-bb7e-56422b1d674e",
   "metadata": {},
   "outputs": [],
   "source": []
  },
  {
   "cell_type": "code",
   "execution_count": 66,
   "id": "5e423a93-f501-4dbd-af3d-e1e6800441ae",
   "metadata": {},
   "outputs": [
    {
     "data": {
      "text/plain": [
       "PandasDatasource(type='pandas', name='steam_data', id=None, assets=[CSVAsset(name='steamasset', type='csv', id=None, order_by=[], batch_metadata={}, filepath_or_buffer=PosixPath('/Users/akhilpenmatcha/Desktop/DE-Project/steam/steamspy_data.csv'), sep=None, delimiter=None, header='infer', names=None, index_col=None, usecols=None, dtype=None, engine=None, true_values=None, false_values=None, skipinitialspace=False, skiprows=None, skipfooter=0, nrows=None, na_values=None, keep_default_na=True, na_filter=True, verbose=None, skip_blank_lines=True, parse_dates=None, infer_datetime_format=None, keep_date_col=None, date_format=None, dayfirst=False, cache_dates=True, iterator=False, chunksize=None, compression='infer', thousands=None, decimal='.', lineterminator=None, quotechar='\"', quoting=0, doublequote=True, escapechar=None, comment=None, encoding=None, encoding_errors='strict', dialect=None, on_bad_lines='error', delim_whitespace=None, low_memory=True, memory_map=False, float_precision=None, storage_options=None, dtype_backend=None)])"
      ]
     },
     "execution_count": 66,
     "metadata": {},
     "output_type": "execute_result"
    }
   ],
   "source": [
    "context.datasources.pop(\"steam_data\", None)\n"
   ]
  },
  {
   "cell_type": "code",
   "execution_count": 67,
   "id": "933c00c7-f79f-4eef-a3dd-0c01e100bee3",
   "metadata": {},
   "outputs": [],
   "source": [
    "datasource_steam= context.sources.add_pandas(name=\"steam_data\").read_csv(\"/Users/akhilpenmatcha/Desktop/DE-Project/steam/steamspy_data.csv\", asset_name=\"steamasset\")\n"
   ]
  },
  {
   "cell_type": "code",
   "execution_count": 68,
   "id": "f7d0b1bf-a4ae-4059-8b20-526eb8bd893d",
   "metadata": {},
   "outputs": [
    {
     "data": {
      "application/vnd.jupyter.widget-view+json": {
       "model_id": "c3b6c95da49b4dbeac428d99ee367379",
       "version_major": 2,
       "version_minor": 0
      },
      "text/plain": [
       "Calculating Metrics:   0%|          | 0/6 [00:00<?, ?it/s]"
      ]
     },
     "metadata": {},
     "output_type": "display_data"
    },
    {
     "data": {
      "text/plain": [
       "{\n",
       "  \"success\": false,\n",
       "  \"result\": {\n",
       "    \"element_count\": 29235,\n",
       "    \"unexpected_count\": 29177,\n",
       "    \"unexpected_percent\": 99.80160766204892,\n",
       "    \"partial_unexpected_list\": [\n",
       "      null,\n",
       "      null,\n",
       "      null,\n",
       "      null,\n",
       "      null,\n",
       "      null,\n",
       "      null,\n",
       "      null,\n",
       "      null,\n",
       "      null,\n",
       "      null,\n",
       "      null,\n",
       "      null,\n",
       "      null,\n",
       "      null,\n",
       "      null,\n",
       "      null,\n",
       "      null,\n",
       "      null,\n",
       "      null\n",
       "    ]\n",
       "  },\n",
       "  \"meta\": {},\n",
       "  \"exception_info\": {\n",
       "    \"raised_exception\": false,\n",
       "    \"exception_traceback\": null,\n",
       "    \"exception_message\": null\n",
       "  }\n",
       "}"
      ]
     },
     "execution_count": 68,
     "metadata": {},
     "output_type": "execute_result"
    }
   ],
   "source": [
    "datasource_steam.expect_column_values_to_not_be_null(\"score_rank\")"
   ]
  },
  {
   "cell_type": "code",
   "execution_count": 69,
   "id": "ac572eac-6088-415a-a916-0e0a9926e01b",
   "metadata": {},
   "outputs": [
    {
     "data": {
      "application/vnd.jupyter.widget-view+json": {
       "model_id": "c9f14061dbc8420e816f88a565b1241c",
       "version_major": 2,
       "version_minor": 0
      },
      "text/plain": [
       "Calculating Metrics:   0%|          | 0/4 [00:00<?, ?it/s]"
      ]
     },
     "metadata": {},
     "output_type": "display_data"
    },
    {
     "data": {
      "text/plain": [
       "{\n",
       "  \"success\": true,\n",
       "  \"result\": {\n",
       "    \"observed_value\": 3.513\n",
       "  },\n",
       "  \"meta\": {},\n",
       "  \"exception_info\": {\n",
       "    \"raised_exception\": false,\n",
       "    \"exception_traceback\": null,\n",
       "    \"exception_message\": null\n",
       "  }\n",
       "}"
      ]
     },
     "execution_count": 69,
     "metadata": {},
     "output_type": "execute_result"
    }
   ],
   "source": [
    "validator.expect_column_median_to_be_between(column=\"Fuel_Price\", min_value=2, max_value=5)"
   ]
  },
  {
   "cell_type": "code",
   "execution_count": 70,
   "id": "5b65a8c6-d15f-4613-aee7-67ae4ed330eb",
   "metadata": {},
   "outputs": [
    {
     "data": {
      "application/vnd.jupyter.widget-view+json": {
       "model_id": "3c7c909b5a7f4aa19ab6f9737662f638",
       "version_major": 2,
       "version_minor": 0
      },
      "text/plain": [
       "Calculating Metrics:   0%|          | 0/1 [00:00<?, ?it/s]"
      ]
     },
     "metadata": {},
     "output_type": "display_data"
    },
    {
     "data": {
      "text/plain": [
       "{\n",
       "  \"success\": false,\n",
       "  \"result\": {\n",
       "    \"observed_value\": 8190\n",
       "  },\n",
       "  \"meta\": {},\n",
       "  \"exception_info\": {\n",
       "    \"raised_exception\": false,\n",
       "    \"exception_traceback\": null,\n",
       "    \"exception_message\": null\n",
       "  }\n",
       "}"
      ]
     },
     "execution_count": 70,
     "metadata": {},
     "output_type": "execute_result"
    }
   ],
   "source": [
    "validator.expect_table_row_count_to_be_between(min_value=2, max_value=5)"
   ]
  },
  {
   "cell_type": "code",
   "execution_count": null,
   "id": "6a089ef1-cdf1-45b8-90e2-24e77a8c6b3e",
   "metadata": {},
   "outputs": [],
   "source": [
    "####Validating file in S3"
   ]
  },
  {
   "cell_type": "code",
   "execution_count": 71,
   "id": "d65d2931-334f-426b-8fc2-f66f2754af0f",
   "metadata": {},
   "outputs": [],
   "source": [
    "\n",
    "name=\"s3_netflix\"\n",
    "bucket=\"storgae-bucket-walmart\"\n",
    "\n",
    "boto3_options={}\n"
   ]
  },
  {
   "cell_type": "code",
   "execution_count": 72,
   "id": "b7d37b14-c079-4245-8c8b-720fca07a025",
   "metadata": {},
   "outputs": [
    {
     "data": {
      "text/plain": [
       "PandasS3Datasource(type='pandas_s3', name='s3_netflix', id=None, assets=[], bucket='storgae-bucket-walmart', boto3_options={})"
      ]
     },
     "execution_count": 72,
     "metadata": {},
     "output_type": "execute_result"
    }
   ],
   "source": [
    "context.datasources.pop(\"s3_netflix\", None)\n"
   ]
  },
  {
   "cell_type": "code",
   "execution_count": 73,
   "id": "7989017b-c77b-47e3-b64c-cf942fa8b438",
   "metadata": {},
   "outputs": [],
   "source": [
    "datasource = context.sources.add_pandas_s3(name=name, bucket=bucket, boto3_options=boto3_options)\n",
    "    \n"
   ]
  },
  {
   "cell_type": "code",
   "execution_count": 77,
   "id": "56f70449-2cd8-4e5a-9216-6dfb72b5fcfa",
   "metadata": {},
   "outputs": [],
   "source": [
    "new_data_asset=datasource.add_csv_asset(name=\"transformed_asset\", batching_regex=r\".*steamspy_data.csv\")\n"
   ]
  },
  {
   "cell_type": "code",
   "execution_count": 83,
   "id": "c8a090d9-b902-4500-a78a-7aa432b85cd3",
   "metadata": {},
   "outputs": [],
   "source": [
    "validator1 = context.get_validator(datasource_name=name, data_asset_name=\"transformed_asset\", expectation_suite_name=\"new_expectation_suite\")"
   ]
  },
  {
   "cell_type": "code",
   "execution_count": 87,
   "id": "9167dc98-5c2e-4009-8e72-02c7b88acd01",
   "metadata": {},
   "outputs": [
    {
     "data": {
      "application/vnd.jupyter.widget-view+json": {
       "model_id": "1cfbd7034cd9489a9e713620fdc68e75",
       "version_major": 2,
       "version_minor": 0
      },
      "text/plain": [
       "Calculating Metrics:   0%|          | 0/8 [00:00<?, ?it/s]"
      ]
     },
     "metadata": {},
     "output_type": "display_data"
    },
    {
     "data": {
      "text/plain": [
       "{\n",
       "  \"success\": true,\n",
       "  \"result\": {\n",
       "    \"element_count\": 29235,\n",
       "    \"unexpected_count\": 0,\n",
       "    \"unexpected_percent\": 0.0,\n",
       "    \"partial_unexpected_list\": [],\n",
       "    \"missing_count\": 0,\n",
       "    \"missing_percent\": 0.0,\n",
       "    \"unexpected_percent_total\": 0.0,\n",
       "    \"unexpected_percent_nonmissing\": 0.0\n",
       "  },\n",
       "  \"meta\": {},\n",
       "  \"exception_info\": {\n",
       "    \"raised_exception\": false,\n",
       "    \"exception_traceback\": null,\n",
       "    \"exception_message\": null\n",
       "  }\n",
       "}"
      ]
     },
     "execution_count": 87,
     "metadata": {},
     "output_type": "execute_result"
    }
   ],
   "source": [
    "validator1.expect_column_values_to_be_unique(\"appid\")"
   ]
  },
  {
   "cell_type": "code",
   "execution_count": 91,
   "id": "fe6e9313-e610-416e-a0fc-e1b8fe1b67d9",
   "metadata": {},
   "outputs": [
    {
     "data": {
      "application/vnd.jupyter.widget-view+json": {
       "model_id": "14a8cb33d4c149dcb4f68bb013bfefa1",
       "version_major": 2,
       "version_minor": 0
      },
      "text/plain": [
       "Calculating Metrics:   0%|          | 0/8 [00:00<?, ?it/s]"
      ]
     },
     "metadata": {},
     "output_type": "display_data"
    },
    {
     "data": {
      "text/plain": [
       "{\n",
       "  \"success\": false,\n",
       "  \"result\": {\n",
       "    \"element_count\": 29235,\n",
       "    \"unexpected_count\": 3944,\n",
       "    \"unexpected_percent\": 13.50407450523865,\n",
       "    \"partial_unexpected_list\": [\n",
       "      0.0,\n",
       "      0.0,\n",
       "      0.0,\n",
       "      0.0,\n",
       "      0.0,\n",
       "      0.0,\n",
       "      0.0,\n",
       "      0.0,\n",
       "      0.0,\n",
       "      0.0,\n",
       "      0.0,\n",
       "      0.0,\n",
       "      0.0,\n",
       "      0.0,\n",
       "      0.0,\n",
       "      0.0,\n",
       "      0.0,\n",
       "      0.0,\n",
       "      0.0,\n",
       "      0.0\n",
       "    ],\n",
       "    \"missing_count\": 29,\n",
       "    \"missing_percent\": 0.09919616897554301,\n",
       "    \"unexpected_percent_total\": 13.49067898067385,\n",
       "    \"unexpected_percent_nonmissing\": 13.50407450523865\n",
       "  },\n",
       "  \"meta\": {},\n",
       "  \"exception_info\": {\n",
       "    \"raised_exception\": false,\n",
       "    \"exception_traceback\": null,\n",
       "    \"exception_message\": null\n",
       "  }\n",
       "}"
      ]
     },
     "execution_count": 91,
     "metadata": {},
     "output_type": "execute_result"
    }
   ],
   "source": [
    "validator1.expect_column_values_to_be_between(\"price\", min_value=50)"
   ]
  },
  {
   "cell_type": "code",
   "execution_count": 100,
   "id": "59b57b7b-5533-4032-a773-4b5a86783964",
   "metadata": {},
   "outputs": [],
   "source": [
    "#context.delete_checkpoint(\"steamspy_checkpoint\")\n"
   ]
  },
  {
   "cell_type": "code",
   "execution_count": 103,
   "id": "5b2e3cc4-5d40-486b-8083-c9d4f6fc653e",
   "metadata": {},
   "outputs": [
    {
     "data": {
      "text/plain": [
       "'\\ncheckpoint_config = {\\n    \"name\": \"steamspy_checkpoint\",\\n    \"config_version\": 1.0,\\n    \"class_name\": \"Checkpoint\",\\n    \"run_name_template\": \"%Y-%m-%d-steamspy-checkpoint\",\\n    \"validations\": [\\n        {\\n            \"batch_request\": {\\n                \"datasource_name\": name,\\n                \"data_asset_name\": \"transformed_asset\",\\n            },\\n            \"expectation_suite_name\": expectation_suite_name,\\n        }\\n    ]\\n}\\n\\n# Step 6: Add the checkpoint\\ncontext.add_checkpoint(**checkpoint_config)\\n\\n# Step 7: Run the checkpoint\\ncheckpoint_result = context.run_checkpoint(\\n    checkpoint_name=\"steamspy_checkpoint\"\\n)\\n'"
      ]
     },
     "execution_count": 103,
     "metadata": {},
     "output_type": "execute_result"
    }
   ],
   "source": [
    "\"\"\"\n",
    "checkpoint_config = {\n",
    "    \"name\": \"steamspy_checkpoint\",\n",
    "    \"config_version\": 1.0,\n",
    "    \"class_name\": \"Checkpoint\",\n",
    "    \"run_name_template\": \"%Y-%m-%d-steamspy-checkpoint\",\n",
    "    \"validations\": [\n",
    "        {\n",
    "            \"batch_request\": {\n",
    "                \"datasource_name\": name,\n",
    "                \"data_asset_name\": \"transformed_asset\",\n",
    "            },\n",
    "            \"expectation_suite_name\": expectation_suite_name,\n",
    "        }\n",
    "    ]\n",
    "}\n",
    "\n",
    "# Step 6: Add the checkpoint\n",
    "context.add_checkpoint(**checkpoint_config)\n",
    "\n",
    "# Step 7: Run the checkpoint\n",
    "checkpoint_result = context.run_checkpoint(\n",
    "    checkpoint_name=\"steamspy_checkpoint\"\n",
    ")\n",
    "\"\"\""
   ]
  },
  {
   "cell_type": "code",
   "execution_count": 102,
   "id": "df0c196f-13ef-4cfd-8e24-f8eb0010a73c",
   "metadata": {},
   "outputs": [
    {
     "name": "stdout",
     "output_type": "stream",
     "text": [
      "{\n",
      "  \"run_id\": {\n",
      "    \"run_name\": \"2024-10-05-steamspy-checkpoint\",\n",
      "    \"run_time\": \"2024-10-05T14:59:08.220377-04:00\"\n",
      "  },\n",
      "  \"run_results\": {\n",
      "    \"ValidationResultIdentifier::new_expectation_suite/2024-10-05-steamspy-checkpoint/20241005T185908.220377Z/s3_netflix-transformed_asset\": {\n",
      "      \"validation_result\": {\n",
      "        \"success\": false,\n",
      "        \"results\": [\n",
      "          {\n",
      "            \"success\": false,\n",
      "            \"expectation_config\": {\n",
      "              \"expectation_type\": \"expect_column_values_to_not_be_null\",\n",
      "              \"kwargs\": {\n",
      "                \"column\": \"Store\",\n",
      "                \"batch_id\": \"s3_netflix-transformed_asset\"\n",
      "              },\n",
      "              \"meta\": {}\n",
      "            },\n",
      "            \"result\": {},\n",
      "            \"meta\": {},\n",
      "            \"exception_info\": {\n",
      "              \"('column_values.nonnull.condition', 'b6fdf382f4334e70c3b6249ce93771d8', ())\": {\n",
      "                \"exception_traceback\": \"Traceback (most recent call last):\\n  File \\\"/Users/akhilpenmatcha/Desktop/DE-Project/Great Expectations/lib/python3.12/site-packages/great_expectations/execution_engine/execution_engine.py\\\", line 548, in _process_direct_and_bundled_metric_computation_configurations\\n    ] = metric_computation_configuration.metric_fn(  # type: ignore[misc] # F not callable\\n        ^^^^^^^^^^^^^^^^^^^^^^^^^^^^^^^^^^^^^^^^^^^^^^^^^^^^^^^^^^^^^^^^^^^^^^^^^^^^^^^^^^\\n  File \\\"/Users/akhilpenmatcha/Desktop/DE-Project/Great Expectations/lib/python3.12/site-packages/great_expectations/expectations/metrics/metric_provider.py\\\", line 100, in inner_func\\n    return metric_fn(*args, **kwargs)\\n           ^^^^^^^^^^^^^^^^^^^^^^^^^^\\n  File \\\"/Users/akhilpenmatcha/Desktop/DE-Project/Great Expectations/lib/python3.12/site-packages/great_expectations/expectations/metrics/map_metric_provider/column_condition_partial.py\\\", line 96, in inner_func\\n    metric_domain_kwargs = get_dbms_compatible_metric_domain_kwargs(\\n                           ^^^^^^^^^^^^^^^^^^^^^^^^^^^^^^^^^^^^^^^^^\\n  File \\\"/Users/akhilpenmatcha/Desktop/DE-Project/Great Expectations/lib/python3.12/site-packages/great_expectations/expectations/metrics/util.py\\\", line 740, in get_dbms_compatible_metric_domain_kwargs\\n    column_name: str | sqlalchemy.quoted_name = get_dbms_compatible_column_names(\\n                                                ^^^^^^^^^^^^^^^^^^^^^^^^^^^^^^^^^\\n  File \\\"/Users/akhilpenmatcha/Desktop/DE-Project/Great Expectations/lib/python3.12/site-packages/great_expectations/expectations/metrics/util.py\\\", line 814, in get_dbms_compatible_column_names\\n    _verify_column_names_exist_and_get_normalized_typed_column_names_map(\\n  File \\\"/Users/akhilpenmatcha/Desktop/DE-Project/Great Expectations/lib/python3.12/site-packages/great_expectations/expectations/metrics/util.py\\\", line 910, in _verify_column_names_exist_and_get_normalized_typed_column_names_map\\n    raise gx_exceptions.InvalidMetricAccessorDomainKwargsKeyError(\\ngreat_expectations.exceptions.exceptions.InvalidMetricAccessorDomainKwargsKeyError: Error: The column \\\"Store\\\" in BatchData does not exist.\\n\\nThe above exception was the direct cause of the following exception:\\n\\nTraceback (most recent call last):\\n  File \\\"/Users/akhilpenmatcha/Desktop/DE-Project/Great Expectations/lib/python3.12/site-packages/great_expectations/validator/validation_graph.py\\\", line 269, in _resolve\\n    self._execution_engine.resolve_metrics(\\n  File \\\"/Users/akhilpenmatcha/Desktop/DE-Project/Great Expectations/lib/python3.12/site-packages/great_expectations/execution_engine/execution_engine.py\\\", line 283, in resolve_metrics\\n    return self._process_direct_and_bundled_metric_computation_configurations(\\n           ^^^^^^^^^^^^^^^^^^^^^^^^^^^^^^^^^^^^^^^^^^^^^^^^^^^^^^^^^^^^^^^^^^^\\n  File \\\"/Users/akhilpenmatcha/Desktop/DE-Project/Great Expectations/lib/python3.12/site-packages/great_expectations/execution_engine/execution_engine.py\\\", line 552, in _process_direct_and_bundled_metric_computation_configurations\\n    raise gx_exceptions.MetricResolutionError(\\ngreat_expectations.exceptions.exceptions.MetricResolutionError: Error: The column \\\"Store\\\" in BatchData does not exist.\\n\",\n",
      "                \"exception_message\": \"Error: The column \\\"Store\\\" in BatchData does not exist.\",\n",
      "                \"raised_exception\": true\n",
      "              }\n",
      "            }\n",
      "          }\n",
      "        ],\n",
      "        \"evaluation_parameters\": {},\n",
      "        \"statistics\": {\n",
      "          \"evaluated_expectations\": 1,\n",
      "          \"successful_expectations\": 0,\n",
      "          \"unsuccessful_expectations\": 1,\n",
      "          \"success_percent\": 0.0\n",
      "        },\n",
      "        \"meta\": {\n",
      "          \"great_expectations_version\": \"0.18.21\",\n",
      "          \"expectation_suite_name\": \"new_expectation_suite\",\n",
      "          \"run_id\": {\n",
      "            \"run_name\": \"2024-10-05-steamspy-checkpoint\",\n",
      "            \"run_time\": \"2024-10-05T14:59:08.220377-04:00\"\n",
      "          },\n",
      "          \"batch_spec\": {\n",
      "            \"path\": \"s3a://storgae-bucket-walmart/steamspy_data.csv\",\n",
      "            \"reader_method\": \"read_csv\",\n",
      "            \"reader_options\": {}\n",
      "          },\n",
      "          \"batch_markers\": {\n",
      "            \"ge_load_time\": \"20241005T185908.231535Z\",\n",
      "            \"pandas_data_fingerprint\": \"d1ebaf9224e07e0a107186642136071c\"\n",
      "          },\n",
      "          \"active_batch_definition\": {\n",
      "            \"datasource_name\": \"s3_netflix\",\n",
      "            \"data_connector_name\": \"fluent\",\n",
      "            \"data_asset_name\": \"transformed_asset\",\n",
      "            \"batch_identifiers\": {\n",
      "              \"path\": \"steamspy_data.csv\"\n",
      "            }\n",
      "          },\n",
      "          \"validation_time\": \"20241005T185919.305854Z\",\n",
      "          \"checkpoint_name\": \"steamspy_checkpoint\",\n",
      "          \"validation_id\": null,\n",
      "          \"checkpoint_id\": null\n",
      "        }\n",
      "      },\n",
      "      \"actions_results\": {\n",
      "        \"store_validation_result\": {\n",
      "          \"class\": \"StoreValidationResultAction\"\n",
      "        },\n",
      "        \"store_evaluation_params\": {\n",
      "          \"class\": \"StoreEvaluationParametersAction\"\n",
      "        },\n",
      "        \"update_data_docs\": {\n",
      "          \"local_site\": \"file:///Users/akhilpenmatcha/Desktop/DE-Project/Great Expectations/gx/uncommitted/data_docs/local_site/validations/new_expectation_suite/2024-10-05-steamspy-checkpoint/20241005T185908.220377Z/s3_netflix-transformed_asset.html\",\n",
      "          \"class\": \"UpdateDataDocsAction\"\n",
      "        }\n",
      "      }\n",
      "    }\n",
      "  },\n",
      "  \"checkpoint_config\": {\n",
      "    \"run_name_template\": \"%Y-%m-%d-steamspy-checkpoint\",\n",
      "    \"runtime_configuration\": {},\n",
      "    \"module_name\": \"great_expectations.checkpoint\",\n",
      "    \"profilers\": [],\n",
      "    \"ge_cloud_id\": null,\n",
      "    \"slack_webhook\": null,\n",
      "    \"batch_request\": {},\n",
      "    \"notify_with\": null,\n",
      "    \"class_name\": \"Checkpoint\",\n",
      "    \"name\": \"steamspy_checkpoint\",\n",
      "    \"expectation_suite_name\": null,\n",
      "    \"site_names\": null,\n",
      "    \"config_version\": 1.0,\n",
      "    \"notify_on\": null,\n",
      "    \"template_name\": null,\n",
      "    \"default_validation_id\": null,\n",
      "    \"expectation_suite_ge_cloud_id\": null,\n",
      "    \"action_list\": [\n",
      "      {\n",
      "        \"name\": \"store_validation_result\",\n",
      "        \"action\": {\n",
      "          \"class_name\": \"StoreValidationResultAction\"\n",
      "        }\n",
      "      },\n",
      "      {\n",
      "        \"name\": \"store_evaluation_params\",\n",
      "        \"action\": {\n",
      "          \"class_name\": \"StoreEvaluationParametersAction\"\n",
      "        }\n",
      "      },\n",
      "      {\n",
      "        \"name\": \"update_data_docs\",\n",
      "        \"action\": {\n",
      "          \"class_name\": \"UpdateDataDocsAction\"\n",
      "        }\n",
      "      }\n",
      "    ],\n",
      "    \"validations\": [\n",
      "      {\n",
      "        \"name\": null,\n",
      "        \"id\": null,\n",
      "        \"expectation_suite_ge_cloud_id\": null,\n",
      "        \"expectation_suite_name\": \"new_expectation_suite\",\n",
      "        \"batch_request\": {\n",
      "          \"datasource_name\": \"s3_netflix\",\n",
      "          \"data_asset_name\": \"transformed_asset\"\n",
      "        }\n",
      "      }\n",
      "    ],\n",
      "    \"evaluation_parameters\": {}\n",
      "  },\n",
      "  \"success\": false\n",
      "}\n"
     ]
    }
   ],
   "source": [
    "#print(checkpoint_result)"
   ]
  },
  {
   "cell_type": "code",
   "execution_count": null,
   "id": "61798449-effd-4f31-9cf8-2bbc5deffe57",
   "metadata": {},
   "outputs": [],
   "source": []
  }
 ],
 "metadata": {
  "kernelspec": {
   "display_name": "Python 3 (ipykernel)",
   "language": "python",
   "name": "python3"
  },
  "language_info": {
   "codemirror_mode": {
    "name": "ipython",
    "version": 3
   },
   "file_extension": ".py",
   "mimetype": "text/x-python",
   "name": "python",
   "nbconvert_exporter": "python",
   "pygments_lexer": "ipython3",
   "version": "3.12.6"
  }
 },
 "nbformat": 4,
 "nbformat_minor": 5
}
